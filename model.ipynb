{
 "cells": [
  {
   "cell_type": "code",
   "execution_count": null,
   "metadata": {},
   "outputs": [],
   "source": [
    "# Imports\n",
    "import csv\n",
    "from collections import defaultdict\n",
    "import numpy as np\n",
    "import matplotlib.pyplot as plt\n",
    "import random\n",
    "import pandas as pd\n",
    "import seaborn as sns\n",
    "from sklearn import metrics\n",
    "from sklearn.ensemble import AdaBoostClassifier\n",
    "from sklearn.linear_model import LogisticRegression\n",
    "from sklearn.model_selection import KFold\n",
    "from sklearn.preprocessing import OneHotEncoder\n",
    "from sklearn.tree import DecisionTreeClassifier, ExtraTreeClassifier\n",
    "\n",
    "### Numpy Print Options ###\n",
    "np.set_printoptions(\n",
    "    threshold=2000, # 1000\n",
    "    edgeitems=10, # 3\n",
    "    linewidth=180, # 75\n",
    "    precision=2\n",
    ")"
   ]
  },
  {
   "cell_type": "code",
   "execution_count": null,
   "metadata": {},
   "outputs": [],
   "source": [
    "# Read data into data frame\n",
    "train = pd.read_csv('cleaned_train.csv', sep=',', header=0, index_col=0)\n",
    "test = pd.read_csv('cleaned_test.csv', sep=',', header=0, index_col=0)\n",
    "men = train.query('sex == 0').copy()\n",
    "women = train.query('sex == 1').copy()\n",
    "men_test = test.query('sex == 0').copy()\n",
    "women_test = test.query('sex == 1').copy()\n",
    "X_train = train.iloc[:, 1:].copy()\n",
    "X_test = test\n",
    "X_men = men.iloc[:, 1:].copy()\n",
    "X_women = women.iloc[:, 1:].copy()\n",
    "y = train['survived']\n",
    "y_men = men['survived']\n",
    "y_women = women['survived']\n",
    "X_all = pd.concat((X_train, X_test), axis=0)"
   ]
  },
  {
   "cell_type": "code",
   "execution_count": null,
   "metadata": {},
   "outputs": [],
   "source": [
    "# Impute missing values\n",
    "\n",
    "# fare=6 => fare=0 : missing fare was 3rd class old Mr. w/out cabin, alone, ticket 4\n",
    "impute_fare = lambda df: df.fare.replace(6, 0, inplace=True)\n",
    "\n",
    "# port=3 => port=1 : missing fare were 2nd class old women w/cabin fare 5 ticket 6 \n",
    "impute_port = lambda df: df.port.replace(3, 1, inplace=True)\n",
    "\n",
    "# origin=0 => none\n",
    "\n",
    "# age=14 => mean age for group with same pclass honor sisp pach cabin\n",
    "def impute_age(df):\n",
    "    features = ['pclass', 'honor', 'sisp', 'pach', 'cabin', 'age']\n",
    "    base = df[df.age != 14][features]\n",
    "    missing = df[df.age == 14][features]\n",
    "    for pid, obs in missing.iterrows():\n",
    "        pclass, honor, sisp, pach, cabin, _ = obs\n",
    "        matches = base.query('pclass == @pclass and honor == @honor and sisp == @sisp and pach == @pach and cabin == @cabin')\n",
    "        if matches.empty:\n",
    "            matches = base[(base.pclass == pclass) & (base.honor == honor)]    \n",
    "        mean_age = int(round(matches.age.mean()))\n",
    "        df.loc[pid, 'age'] = mean_age\n",
    "\n",
    "# Derived features\n",
    "\n",
    "# Travelling alone? sisp=0 and pach=0\n",
    "def add_alone(df):\n",
    "    df['alone'] = ((df.sisp == 0) & (df.pach == 0)).astype(int)\n",
    "    return df\n",
    "\n",
    "# How many family members?\n",
    "def add_family(df):\n",
    "    df['family'] = df.sisp + df.pach\n",
    "    return df\n",
    "\n",
    "# Give female children separate honorific\n",
    "# honor == 4 (Miss) and age < 4 ==> honor = 6\n",
    "def add_girls_honor(df):\n",
    "    girls = df.query('honor == 4 and age < 5')\n",
    "    for pid in girls.index:\n",
    "        df.loc[pid].honor = 6\n",
    "\n",
    "# Better class: combine pclass and cabin\n",
    "def add_pclabin(df):\n",
    "    df['pclabin'] = df.pclass + df.cabin * 3\n",
    "    return df\n",
    "\n",
    "def add_magic(df):\n",
    "    df['magic'] = 1\n",
    "    men = df.query('sex == 0')\n",
    "    women = df.query('sex == 1')\n",
    "    alive_men = men.query('honor == 3 or (pclass == 1 and age < 11) or age < 4 or fare == 5 or cabin == 1 or pclabin == 4')\n",
    "    dead_women = women.query('(pclass == 0 and (origin == 2 or origin == 3 or origin == 5)) or (pclass == 0 and alone == 0) or sisp == 3 or honor == 6')\n",
    "    for pid in alive_men.index:\n",
    "        df.loc[pid, 'magic'] = 0\n",
    "    for pid in dead_women.index:\n",
    "        df.loc[pid, 'magic'] = 0\n",
    "    return df\n",
    "\n",
    "def adjust_features(old_df):\n",
    "    df = old_df.copy(deep=True)\n",
    "    impute_fare(df)\n",
    "    impute_port(df)\n",
    "    impute_age(df)\n",
    "    add_girls_honor(df)\n",
    "    df = add_family(df)\n",
    "    df = add_alone(df)\n",
    "    df = add_pclabin(df)\n",
    "    df = add_magic(df)\n",
    "    return df"
   ]
  },
  {
   "cell_type": "code",
   "execution_count": null,
   "metadata": {},
   "outputs": [],
   "source": [
    "counts = lambda df: df.apply(pd.Series.value_counts, axis=0)\n",
    "\n",
    "def get_errors(X, y, model):\n",
    "    errors = []\n",
    "    for i in range(X.shape[0]):\n",
    "        obs = X.iloc[i:i+1]\n",
    "        real = y.iloc[i]\n",
    "        y_pred = model.predict(obs)\n",
    "        if y_pred != [real]:\n",
    "            errors.append(i)\n",
    "    errs = pd.concat([X.iloc[errors], y.iloc[errors]], axis=1, join='outer')\n",
    "    print('Errors:', errs.shape[0])\n",
    "    errs.sort_values('survived', inplace=True)\n",
    "    return errs\n",
    "\n",
    "def test_data(X, y, label, clf, splits=4):\n",
    "    print('\\n', '='*10, label, '='*10)\n",
    "    kfold = KFold(n_splits=splits)\n",
    "    for train_i, test_i in kfold.split(X):\n",
    "        X_train, X_test = X.iloc[train_i], X.iloc[test_i]\n",
    "        y_train, y_test = y.iloc[train_i], y.iloc[test_i]\n",
    "        model = clf.fit(X_train, y_train)\n",
    "        preds = model.predict(X_test)\n",
    "        #print(' '.join('{0: <5.5}{1}'.format(k, v) for v, k in sorted(zip(model.feature_importances_, X.columns), reverse=True)))\n",
    "        print(metrics.accuracy_score(y_test, preds))\n",
    "        print(metrics.classification_report(y_test, preds))\n",
    "\n",
    "def sample_features(X, y, clf, population, repeat, fixed=None, size=6):\n",
    "    for _ in range(repeat):\n",
    "        sample = random.sample(population, size)\n",
    "        if fixed is not None:\n",
    "            sample.append(fixed)\n",
    "        X_sample = X.iloc[:, sample]\n",
    "        test_data(X_sample, y, clf)"
   ]
  },
  {
   "cell_type": "code",
   "execution_count": null,
   "metadata": {},
   "outputs": [],
   "source": [
    "tree = DecisionTreeClassifier(max_depth=1, criterion='gini')\n",
    "abc = AdaBoostClassifier(base_estimator=tree, n_estimators=50, learning_rate=.1)\n",
    "lrc = LogisticRegression(class_weight=None)"
   ]
  },
  {
   "cell_type": "code",
   "execution_count": null,
   "metadata": {},
   "outputs": [],
   "source": [
    "train_adj = adjust_features(train)\n",
    "men_adj = adjust_features(men)\n",
    "women_adj = adjust_features(women)\n",
    "men_adj_test = adjust_features(men_test)\n",
    "women_adj_test = adjust_features(women_test)\n",
    "X_adj = adjust_features(X_train)\n",
    "M_adj = X_adj.query('sex == 0')\n",
    "W_adj = X_adj.query('sex == 1')\n",
    "print('Men:', M_adj.shape, 'Women:', W_adj.shape)"
   ]
  },
  {
   "cell_type": "code",
   "execution_count": null,
   "metadata": {},
   "outputs": [],
   "source": [
    "M_drop = M_adj.drop(columns=['pach', 'alone', 'sex', 'cabin'])\n",
    "W_drop = W_adj.drop(columns=['pach', 'alone', 'sex', 'cabin'])\n",
    "men_drop_test = men_adj_test.drop(columns=['pach', 'alone', 'sex', 'cabin'])\n",
    "women_drop_test = women_adj_test.drop(columns=['pach', 'alone', 'sex', 'cabin'])"
   ]
  },
  {
   "cell_type": "code",
   "execution_count": null,
   "metadata": {
    "scrolled": true
   },
   "outputs": [],
   "source": [
    "test_data(W_drop, y_women, label='Women Adjusted', clf=abc)\n",
    "test_data(W_pad, y_pad, label='Pad Adjusted', clf=abc)"
   ]
  },
  {
   "cell_type": "code",
   "execution_count": null,
   "metadata": {},
   "outputs": [],
   "source": [
    "g = sns.catplot(x='fare', hue='survived', col='magic', data=men_adj, kind='count', palette='husl')"
   ]
  },
  {
   "cell_type": "code",
   "execution_count": null,
   "metadata": {},
   "outputs": [],
   "source": [
    "abc_men = abc.fit(M_drop, y_men)\n",
    "abc_preds_men = abc_men.predict(M_drop)"
   ]
  },
  {
   "cell_type": "code",
   "execution_count": null,
   "metadata": {},
   "outputs": [],
   "source": [
    "abc_women = abc.fit(W_drop, y_women)\n",
    "abc_preds_women = abc_women.predict(W_drop)"
   ]
  },
  {
   "cell_type": "code",
   "execution_count": null,
   "metadata": {},
   "outputs": [],
   "source": [
    "err_women = get_errors(W_drop, y_women, abc_women)"
   ]
  },
  {
   "cell_type": "code",
   "execution_count": null,
   "metadata": {},
   "outputs": [],
   "source": [
    "err_new = get_errors(W_pad, y_pad, abc.fit(W_pad, y_pad))"
   ]
  },
  {
   "cell_type": "code",
   "execution_count": null,
   "metadata": {},
   "outputs": [],
   "source": [
    "err_new"
   ]
  },
  {
   "cell_type": "code",
   "execution_count": null,
   "metadata": {},
   "outputs": [],
   "source": [
    "new_pids = np.array([np.arange(1400, 1453)])"
   ]
  },
  {
   "cell_type": "code",
   "execution_count": null,
   "metadata": {},
   "outputs": [],
   "source": [
    "new_obs = pd.DataFrame(np.concatenate((new_pids.T, err_women.values), axis=1))\n",
    "new_obs.columns = ['pid', 'pclass', 'honor', 'origin', 'age', 'sisp', 'ticket', 'fare', 'port', 'family', 'pclabin', 'magic', 'survived']\n",
    "new_obs = new_obs.set_index('pid')"
   ]
  },
  {
   "cell_type": "code",
   "execution_count": null,
   "metadata": {},
   "outputs": [],
   "source": [
    "temp = pd.concat([W_drop, y_women], axis=1, join='outer')"
   ]
  },
  {
   "cell_type": "code",
   "execution_count": null,
   "metadata": {},
   "outputs": [],
   "source": [
    "temp2 = pd.concat([temp, new_obs], axis=0, join='outer')"
   ]
  },
  {
   "cell_type": "code",
   "execution_count": null,
   "metadata": {},
   "outputs": [],
   "source": [
    "W_pad = temp2.iloc[:, :-1].copy()\n",
    "y_pad = temp2['survived']"
   ]
  },
  {
   "cell_type": "code",
   "execution_count": null,
   "metadata": {},
   "outputs": [],
   "source": [
    "encoder = OneHotEncoder()\n",
    "encoder_men = encoder.fit(M_drop)\n",
    "encoder_women = encoder.fit(W_drop)"
   ]
  },
  {
   "cell_type": "code",
   "execution_count": null,
   "metadata": {},
   "outputs": [],
   "source": [
    "M_hot = encoder_men.transform(M_drop)\n",
    "W_hot = encoder_women.transform(W_drop)\n",
    "men_hot_test = encoder_men.transform(men_drop_test)\n",
    "women_hot_test = encoder_women.transform(women_drop_test)"
   ]
  },
  {
   "cell_type": "code",
   "execution_count": null,
   "metadata": {},
   "outputs": [],
   "source": [
    "lrc_men = lrc.fit(M_hot, y_men)\n",
    "lrc_preds_men = lrc_men.predict(men_hot_test)"
   ]
  },
  {
   "cell_type": "code",
   "execution_count": null,
   "metadata": {},
   "outputs": [],
   "source": [
    "lrc_women = lrc.fit(W_hot, y_women)\n",
    "lrc_preds_women = lrc_women.predict(women_hot_test)"
   ]
  },
  {
   "cell_type": "code",
   "execution_count": null,
   "metadata": {},
   "outputs": [],
   "source": [
    "abc_pm = abc_men.predict(M_drop)"
   ]
  },
  {
   "cell_type": "code",
   "execution_count": null,
   "metadata": {},
   "outputs": [],
   "source": [
    "lrc_pm = lrc_men.predict(M_hot)"
   ]
  },
  {
   "cell_type": "code",
   "execution_count": null,
   "metadata": {},
   "outputs": [],
   "source": [
    "abc_pw = abc_women.predict(W_drop)"
   ]
  },
  {
   "cell_type": "code",
   "execution_count": null,
   "metadata": {},
   "outputs": [],
   "source": [
    "lrc_pw = lrc_women.predict(W_hot)"
   ]
  },
  {
   "cell_type": "code",
   "execution_count": null,
   "metadata": {},
   "outputs": [],
   "source": [
    "abc_pm_eq = abc_pm_prev == abc_pm\n",
    "lrc_pm_eq = lrc_pm_prev == lrc_pm\n",
    "abc_pw_eq = abc_pw_prev == abc_pw\n",
    "lrc_pw_eq = lrc_pw_prev == lrc_pw\n",
    "#print(abc_pm_eq, lrc_pm_eq, abc_pw_eq, lrc_pw_eq)"
   ]
  },
  {
   "cell_type": "code",
   "execution_count": null,
   "metadata": {},
   "outputs": [],
   "source": [
    "abc_pm_prev = abc_pm.copy()\n",
    "lrc_pm_prev = lrc_pm.copy()\n",
    "abc_pw_prev = abc_pw.copy()\n",
    "lrc_pw_prev = lrc_pw.copy()"
   ]
  },
  {
   "cell_type": "code",
   "execution_count": null,
   "metadata": {},
   "outputs": [],
   "source": [
    "print(metrics.accuracy_score(y_men, abc_pm))\n",
    "print(metrics.accuracy_score(y_men, lrc_pm))\n",
    "print(metrics.accuracy_score(y_women, abc_pw))\n",
    "print(metrics.accuracy_score(y_women, lrc_pw))"
   ]
  },
  {
   "cell_type": "code",
   "execution_count": null,
   "metadata": {},
   "outputs": [],
   "source": [
    "pids_men = men_drop_test.index\n",
    "pids_women = women_drop_test.index\n",
    "csv.register_dialect('ints', delimiter=',', escapechar=None, quoting=csv.QUOTE_NONE)\n",
    "with open('preds10.csv', mode='a+', errors='ignore') as pred:\n",
    "    fieldnames = ['PassengerId', 'Survived']\n",
    "    writer = csv.writer(pred, dialect='ints')\n",
    "    pred.truncate(0) # delete any file contents\n",
    "    writer.writerow(fieldnames)\n",
    "    for row in zip(pids_men, lrc_preds_men):\n",
    "        writer.writerow(row)\n",
    "    for row in zip(pids_women, lrc_preds_women):\n",
    "        writer.writerow(row)"
   ]
  }
 ],
 "metadata": {
  "kernelspec": {
   "display_name": "Python 3",
   "language": "python",
   "name": "python3"
  },
  "language_info": {
   "codemirror_mode": {
    "name": "ipython",
    "version": 3
   },
   "file_extension": ".py",
   "mimetype": "text/x-python",
   "name": "python",
   "nbconvert_exporter": "python",
   "pygments_lexer": "ipython3",
   "version": "3.7.0"
  }
 },
 "nbformat": 4,
 "nbformat_minor": 2
}
