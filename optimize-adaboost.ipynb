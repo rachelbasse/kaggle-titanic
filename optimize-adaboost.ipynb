{
 "cells": [
  {
   "cell_type": "code",
   "execution_count": 10,
   "metadata": {},
   "outputs": [],
   "source": [
    "# Imports\n",
    "from helpers import *\n",
    "from imblearn.over_sampling import RandomOverSampler\n",
    "import graphviz\n",
    "import numpy as np\n",
    "import matplotlib.pyplot as plt\n",
    "import pandas as pd\n",
    "import seaborn as sns\n",
    "from sklearn import metrics\n",
    "from sklearn.ensemble import AdaBoostClassifier\n",
    "from sklearn.tree import DecisionTreeClassifier\n",
    "\n",
    "### Numpy Print Options ###\n",
    "np.set_printoptions(\n",
    "    threshold=2000, # 1000\n",
    "    edgeitems=10, # 3\n",
    "    linewidth=180, # 75\n",
    "    precision=2\n",
    ")"
   ]
  },
  {
   "cell_type": "code",
   "execution_count": 11,
   "metadata": {},
   "outputs": [],
   "source": [
    "dtypes = {\n",
    "    'survived': np.uint8,\n",
    "    'honor': 'category',\n",
    "    'sex': 'category',\n",
    "    'clare': np.uint8,\n",
    "    'age': np.uint8,\n",
    "    'fare': np.uint8,\n",
    "    'cabin': 'category',\n",
    "    'origin': 'category',\n",
    "    'alone': 'category',\n",
    "    'port': 'category',\n",
    "    'sisp': np.uint8,\n",
    "    'pach': np.uint8\n",
    "}"
   ]
  },
  {
   "cell_type": "code",
   "execution_count": 36,
   "metadata": {},
   "outputs": [],
   "source": [
    "train_raw = pd.read_csv('data/cleaned_train.csv', dtype=dtypes, header=0, index_col=0)\n",
    "test_raw = pd.read_csv('data/cleaned_test.csv', dtype=dtypes, header=0, index_col=0)"
   ]
  },
  {
   "cell_type": "code",
   "execution_count": 37,
   "metadata": {},
   "outputs": [],
   "source": [
    "train = pd.get_dummies(train_raw)\n",
    "test = pd.get_dummies(test_raw)\n",
    "train_men = train.query('sex_male == 1')\n",
    "train_women = train.query('sex_female == 1')\n",
    "test_men = test.query('sex_male == 1')\n",
    "test_women = test.query('sex_female == 1')\n",
    "X = train.drop('survived', axis=1)\n",
    "M = train_men.drop('survived', axis=1)\n",
    "W = train_women.drop('survived', axis=1)\n",
    "y = train['survived']\n",
    "m = train_men['survived']\n",
    "w = train_women['survived']"
   ]
  },
  {
   "cell_type": "code",
   "execution_count": 38,
   "metadata": {},
   "outputs": [],
   "source": [
    "pct = lambda v: int(v * 100)\n",
    "\n",
    "def test_data(X, y, title, clf, sampler=None, splits=3):\n",
    "    kfold = KFold(n_splits=splits, shuffle=True)\n",
    "    avgs = []\n",
    "    for train_i, test_i in kfold.split(X):\n",
    "        X_train, X_test = X.iloc[train_i], X.iloc[test_i]\n",
    "        y_train, y_test = y.iloc[train_i], y.iloc[test_i]\n",
    "        if sampler:\n",
    "            X_train, y_train = sampler.fit_resample(X_train, y_train)\n",
    "        model = clf.fit(X_train, y_train)\n",
    "        preds = model.predict(X_test)\n",
    "        print(' '.join('{1}{0:.10}'.format(k, int(v * 100)) for v, k in sorted(zip(model.feature_importances_, X.columns), reverse=True)[:6]))\n",
    "        report = metrics.classification_report(y_test, preds, output_dict=True)\n",
    "        avgs.append((metrics.accuracy_score(y_test, preds), report['0']['f1-score'], report['1']['f1-score']))\n",
    "        #print(' '.join('0: {0:.1}: {1:}'.format(k, int(v * 100)) for k, v in report['0'].items()))\n",
    "        #print(' '.join('1: {0:.1}: {1:}'.format(k, int(v * 100)) for k, v in report['1'].items()))\n",
    "    avg = [pct(sum(lst)/3) for lst in zip(*avgs)]\n",
    "    print(avg, ' ac 0f 1f', '='*5, title, '='*5)\n",
    "\n",
    "\n",
    "def tests():\n",
    "    test_data(X, y, 'All', abc)\n",
    "    test_data(X, y, 'All Samp', abc, sampler=samp)\n",
    "    test_data(X, y, 'All Weighted', wabc)\n",
    "    print('==')\n",
    "    test_data(X, y, 'Single Tree', dtc)\n",
    "    test_data(X, y, 'Single Weighted Tree', wdtc)\n",
    "    test_data(X, y, 'Single Tree 2', dtc2)\n",
    "    test_data(X, y, 'Single Weighted Tree 2', wdtc2)\n",
    "    test_data(X, y, 'Single Samp Tree 2', dtc2, sampler=samp)"
   ]
  },
  {
   "cell_type": "code",
   "execution_count": 39,
   "metadata": {},
   "outputs": [],
   "source": [
    "dtc = DecisionTreeClassifier(max_depth=1, criterion='entropy', min_samples_split=2, min_samples_leaf=10, class_weight=None)\n",
    "wdtc = DecisionTreeClassifier(max_depth=1, criterion='entropy', min_samples_split=2, min_samples_leaf=10, class_weight='balanced')\n",
    "dtc2 = DecisionTreeClassifier(max_depth=None, criterion='entropy', min_samples_split=50, min_samples_leaf=10, class_weight=None)\n",
    "wdtc2 = DecisionTreeClassifier(max_depth=None, criterion='entropy', min_samples_split=50, min_samples_leaf=10, class_weight='balanced')\n",
    "abc = AdaBoostClassifier(base_estimator=dtc, n_estimators=50, learning_rate=.1)\n",
    "wabc = AdaBoostClassifier(base_estimator=wdtc, n_estimators=50, learning_rate=.1)\n",
    "samp = RandomOverSampler(sampling_strategy='minority')"
   ]
  },
  {
   "cell_type": "code",
   "execution_count": 40,
   "metadata": {},
   "outputs": [
    {
     "name": "stdout",
     "output_type": "stream",
     "text": [
      "30clare 28honor_mr 16age 10sex_female 6honor_mrs 6cabin_0\n",
      "32honor_mr 24clare 10age 8sex_male 8fare 8cabin_1\n",
      "40honor_mr 28clare 12cabin_1 6sex_female 6origin_oth 6cabin_0\n",
      "[78, 82, 71]  ac 0f 1f ===== All =====\n",
      "42honor_mr 32clare 12cabin_1 6sex_male 6cabin_0 2sex_female\n",
      "28honor_mr 24clare 10fare 10age 8cabin_0 6sex_male\n",
      "34honor_mr 30clare 8origin_oth 8cabin_1 8cabin_0 6sex_female\n",
      "[78, 80, 74]  ac 0f 1f ===== All Samp =====\n",
      "34honor_mr 28clare 10cabin_1 8sex_male 8cabin_0 4sex_female\n",
      "34honor_mr 26clare 12age 10cabin_0 6fare 4honor_mrs\n",
      "34honor_mr 28clare 10sex_male 10cabin_1 8cabin_0 8age\n",
      "[77, 80, 73]  ac 0f 1f ===== All Weighted =====\n",
      "==\n",
      "100honor_mr 0sex_male 0sex_female 0origin_oth 0origin_eng 0honor_mrs\n",
      "100honor_mr 0sex_male 0sex_female 0origin_oth 0origin_eng 0honor_mrs\n",
      "100honor_mr 0sex_male 0sex_female 0origin_oth 0origin_eng 0honor_mrs\n",
      "[79, 82, 73]  ac 0f 1f ===== Single Tree =====\n",
      "100honor_mr 0sex_male 0sex_female 0origin_oth 0origin_eng 0honor_mrs\n",
      "100honor_mr 0sex_male 0sex_female 0origin_oth 0origin_eng 0honor_mrs\n",
      "100honor_mr 0sex_male 0sex_female 0origin_oth 0origin_eng 0honor_mrs\n",
      "[79, 82, 73]  ac 0f 1f ===== Single Weighted Tree =====\n",
      "61honor_mr 21clare 8cabin_1 5fare 2age 0honor_miss\n",
      "53honor_mr 24clare 8age 7fare 3cabin_1 0origin_eng\n",
      "51honor_mr 19clare 11cabin_0 7age 6fare 1origin_oth\n",
      "[80, 84, 70]  ac 0f 1f ===== Single Tree 2 =====\n",
      "57honor_mr 17clare 10cabin_0 6fare 5age 1origin_eng\n",
      "56honor_mr 18clare 8fare 7cabin_0 5age 2alone_True\n",
      "57honor_mr 20clare 7age 6fare 6cabin_1 1alone_Fals\n",
      "[81, 85, 74]  ac 0f 1f ===== Single Weighted Tree 2 =====\n",
      "58honor_mr 17clare 8cabin_0 7age 6fare 0alone_Fals\n",
      "55honor_mr 19clare 7fare 7age 6cabin_0 1alone_True\n",
      "56honor_mr 19clare 10cabin_0 6fare 5age 1origin_eng\n",
      "[81, 84, 75]  ac 0f 1f ===== Single Samp Tree 2 =====\n"
     ]
    }
   ],
   "source": [
    "tests()"
   ]
  },
  {
   "cell_type": "code",
   "execution_count": 28,
   "metadata": {},
   "outputs": [],
   "source": [
    "# Output Test\n",
    "X, y = samp.fit_resample(X, y)\n",
    "model = dtc2.fit(X, y)\n",
    "preds = model.predict(test)"
   ]
  },
  {
   "cell_type": "code",
   "execution_count": 29,
   "metadata": {},
   "outputs": [],
   "source": [
    "res = pd.DataFrame(preds, index=test.index, columns=['Survived'])\n",
    "res.index.names = ['PassengerId']"
   ]
  },
  {
   "cell_type": "code",
   "execution_count": 30,
   "metadata": {},
   "outputs": [],
   "source": [
    "res.to_csv('preds/preds_tree_oversampled_extra.csv', header=True, index=True)"
   ]
  },
  {
   "cell_type": "code",
   "execution_count": null,
   "metadata": {},
   "outputs": [],
   "source": []
  }
 ],
 "metadata": {
  "kernelspec": {
   "display_name": "Python 3",
   "language": "python",
   "name": "python3"
  },
  "language_info": {
   "codemirror_mode": {
    "name": "ipython",
    "version": 3
   },
   "file_extension": ".py",
   "mimetype": "text/x-python",
   "name": "python",
   "nbconvert_exporter": "python",
   "pygments_lexer": "ipython3",
   "version": "3.7.0"
  }
 },
 "nbformat": 4,
 "nbformat_minor": 2
}
