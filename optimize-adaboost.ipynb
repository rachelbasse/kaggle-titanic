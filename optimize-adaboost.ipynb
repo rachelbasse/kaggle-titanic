{
 "cells": [
  {
   "cell_type": "code",
   "execution_count": null,
   "metadata": {},
   "outputs": [],
   "source": [
    "# Imports\n",
    "from helpers import *\n",
    "from imblearn.over_sampling import RandomOverSampler\n",
    "import graphviz\n",
    "import numpy as np\n",
    "import matplotlib.pyplot as plt\n",
    "import pandas as pd\n",
    "import seaborn as sns\n",
    "from sklearn import metrics\n",
    "from sklearn.ensemble import AdaBoostClassifier\n",
    "from sklearn.tree import DecisionTreeClassifier\n",
    "\n",
    "### Numpy Print Options ###\n",
    "np.set_printoptions(\n",
    "    threshold=2000, # 1000\n",
    "    edgeitems=10, # 3\n",
    "    linewidth=180, # 75\n",
    "    precision=2\n",
    ")"
   ]
  },
  {
   "cell_type": "code",
   "execution_count": null,
   "metadata": {},
   "outputs": [],
   "source": [
    "dtypes = {\n",
    "    'survived': np.uint8,\n",
    "    'honor': 'category',\n",
    "    'sex': 'category',\n",
    "    'clare': np.uint8,\n",
    "    'age': np.uint8,\n",
    "    'fare': np.uint8,\n",
    "    'cabin': 'category',\n",
    "    'origin': 'category',\n",
    "    'alone': 'category'\n",
    "}"
   ]
  },
  {
   "cell_type": "code",
   "execution_count": null,
   "metadata": {},
   "outputs": [],
   "source": [
    "train_raw = pd.read_csv('cleaned_train.csv', dtype=dtypes, header=0, index_col=0)\n",
    "test_raw = pd.read_csv('cleaned_test.csv', dtype=dtypes, header=0, index_col=0)"
   ]
  },
  {
   "cell_type": "code",
   "execution_count": null,
   "metadata": {},
   "outputs": [],
   "source": [
    "train = pd.get_dummies(train_raw)\n",
    "test = pd.get_dummies(test_raw)\n",
    "train_men = train.query('sex_male == 1')\n",
    "train_women = train.query('sex_female == 1')\n",
    "test_men = test.query('sex_male == 1')\n",
    "test_women = test.query('sex_female == 1')\n",
    "X = train.drop('survived', axis=1)\n",
    "M = train_men.drop('survived', axis=1)\n",
    "W = train_women.drop('survived', axis=1)\n",
    "y = train['survived']\n",
    "m = train_men['survived']\n",
    "w = train_women['survived']"
   ]
  },
  {
   "cell_type": "code",
   "execution_count": null,
   "metadata": {},
   "outputs": [],
   "source": [
    "pct = lambda v: int(v * 100)\n",
    "\n",
    "def test_data(X, y, title, clf, sampler=None, splits=3):\n",
    "    kfold = KFold(n_splits=splits, shuffle=True)\n",
    "    avgs = []\n",
    "    for train_i, test_i in kfold.split(X):\n",
    "        X_train, X_test = X.iloc[train_i], X.iloc[test_i]\n",
    "        y_train, y_test = y.iloc[train_i], y.iloc[test_i]\n",
    "        if sampler:\n",
    "            X_train, y_train = sampler.fit_resample(X_train, y_train)\n",
    "        model = clf.fit(X_train, y_train)\n",
    "        preds = model.predict(X_test)\n",
    "        #print(' '.join('{1}{0:.10}'.format(k, int(v * 100)) for v, k in sorted(zip(model.feature_importances_, X.columns), reverse=True)[:6]))\n",
    "        report = metrics.classification_report(y_test, preds, output_dict=True)\n",
    "        avgs.append((metrics.accuracy_score(y_test, preds), report['0']['f1-score'], report['1']['f1-score']))\n",
    "        #print(' '.join('0: {0:.1}: {1:}'.format(k, int(v * 100)) for k, v in report['0'].items()))\n",
    "        #print(' '.join('1: {0:.1}: {1:}'.format(k, int(v * 100)) for k, v in report['1'].items()))\n",
    "    avg = [pct(sum(lst)/3) for lst in zip(*avgs)]\n",
    "    print(avg, ' ac 0f 1f', '='*5, title, '='*5)\n",
    "\n",
    "\n",
    "def tests():\n",
    "    test_data(X, y, 'All', abc)\n",
    "    test_data(X, y, 'All Samp', abc, sampler=samp)\n",
    "    test_data(X, y, 'All Weighted', wabc)\n",
    "    test_data(W, w, 'Women Samp', abc, sampler=samp)\n",
    "    test_data(W, w, 'Women Weighted', wabc)\n",
    "    test_data(M, m, 'Men Samp', abc, sampler=samp)\n",
    "    test_data(M, m, 'Men Weighted', wabc)"
   ]
  },
  {
   "cell_type": "code",
   "execution_count": null,
   "metadata": {},
   "outputs": [],
   "source": [
    "dtc = DecisionTreeClassifier(max_depth=1, criterion='entropy', min_samples_split=2, min_samples_leaf=10, class_weight=None)\n",
    "wdtc = DecisionTreeClassifier(max_depth=1, criterion='entropy', min_samples_split=2, min_samples_leaf=10, class_weight='balanced')\n",
    "abc = AdaBoostClassifier(base_estimator=dtc, n_estimators=50, learning_rate=.1)\n",
    "wabc = AdaBoostClassifier(base_estimator=wdtc, n_estimators=50, learning_rate=.1)\n",
    "samp = RandomOverSampler(sampling_strategy='minority')"
   ]
  },
  {
   "cell_type": "code",
   "execution_count": null,
   "metadata": {},
   "outputs": [],
   "source": [
    "tests()"
   ]
  },
  {
   "cell_type": "code",
   "execution_count": null,
   "metadata": {},
   "outputs": [],
   "source": [
    "tests()"
   ]
  },
  {
   "cell_type": "code",
   "execution_count": null,
   "metadata": {},
   "outputs": [],
   "source": [
    "print('split=10,leaf=1')\n",
    "tests()"
   ]
  },
  {
   "cell_type": "code",
   "execution_count": null,
   "metadata": {},
   "outputs": [],
   "source": [
    "# Output Test\n",
    "X, y = samp.fit_resample(X, y)\n",
    "model = abc.fit(X, y)\n",
    "preds = model.predict(test)"
   ]
  },
  {
   "cell_type": "code",
   "execution_count": null,
   "metadata": {},
   "outputs": [],
   "source": [
    "res = pd.DataFrame(preds, index=test.index, columns=['Survived'])\n",
    "res.index.names = ['PassengerId']"
   ]
  },
  {
   "cell_type": "code",
   "execution_count": null,
   "metadata": {},
   "outputs": [],
   "source": [
    "res"
   ]
  },
  {
   "cell_type": "code",
   "execution_count": null,
   "metadata": {},
   "outputs": [],
   "source": [
    "res.to_csv('preds_ada_oversampled.csv', header=True, index=True)"
   ]
  },
  {
   "cell_type": "code",
   "execution_count": null,
   "metadata": {},
   "outputs": [],
   "source": []
  }
 ],
 "metadata": {
  "kernelspec": {
   "display_name": "Python 3",
   "language": "python",
   "name": "python3"
  },
  "language_info": {
   "codemirror_mode": {
    "name": "ipython",
    "version": 3
   },
   "file_extension": ".py",
   "mimetype": "text/x-python",
   "name": "python",
   "nbconvert_exporter": "python",
   "pygments_lexer": "ipython3",
   "version": "3.7.0"
  }
 },
 "nbformat": 4,
 "nbformat_minor": 2
}
