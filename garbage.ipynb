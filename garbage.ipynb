{
 "cells": [
  {
   "cell_type": "code",
   "execution_count": 316,
   "metadata": {},
   "outputs": [],
   "source": [
    "# Imports\n",
    "import csv\n",
    "import numpy as np\n",
    "import matplotlib.pyplot as plt\n",
    "import pandas as pd\n",
    "import re\n",
    "import seaborn as sns\n",
    "from sklearn import linear_model"
   ]
  },
  {
   "cell_type": "code",
   "execution_count": 305,
   "metadata": {},
   "outputs": [],
   "source": [
    "# Maps for numeric fields\n",
    "sexes = { 'male': 0, 'female': 1 }\n",
    "honorifics = {\n",
    "    'Mr' : 1,\n",
    "    'Don': 2,\n",
    "    'Sir': 2,\n",
    "    'Rev': 2,\n",
    "    'Dr': 2,\n",
    "    'Major': 2,\n",
    "    'Col': 2,\n",
    "    'Capt': 2,\n",
    "    'Jonkheer': 2,\n",
    "    'Master': 3,\n",
    "    'Mlle': 4,\n",
    "    'Ms': 4,\n",
    "    'Miss': 4,\n",
    "    'Mrs': 5,\n",
    "    'Mme': 5,\n",
    "    'Dona': 5,\n",
    "    'Lady': 5,\n",
    "    'the Countess': 5\n",
    "}\n",
    "ticket_prefixes = {\n",
    " '': 0,\n",
    " 'a': 7,\n",
    " 'a4': 30,\n",
    " 'a5': 14,\n",
    " 'aq3': 4,\n",
    " 'aq4': 35,\n",
    " 'as': 31,\n",
    " 'basle': 17,\n",
    " 'c': 9,\n",
    " 'ca': 12,\n",
    " 'casoton': 28,\n",
    " 'fa': 19,\n",
    " 'fc': 3,\n",
    " 'fcc': 6,\n",
    " 'lp': 25,\n",
    " 'pc': 20,\n",
    " 'pp': 29,\n",
    " 'ppp': 11,\n",
    " 'sc': 2,\n",
    " 'sca3': 10,\n",
    " 'sca4': 21,\n",
    " 'scah': 24,\n",
    " 'scow': 23,\n",
    " 'scparis': 1,\n",
    " 'soc': 15,\n",
    " 'sop': 26,\n",
    " 'sopp': 34,\n",
    " 'sotono2': 22,\n",
    " 'sotonoq': 32,\n",
    " 'sp': 13,\n",
    " 'stono': 16,\n",
    " 'stono2': 18,\n",
    " 'stonoq': 5,\n",
    " 'swpp': 8,\n",
    " 'wc': 27,\n",
    " 'wep': 33,\n",
    " 'scahbasle': 36,\n",
    " 'a2': 37\n",
    "}\n",
    "#cabins = {'': 0, 'D43': 1, 'B73': 2, 'B78': 3, 'B71': 4, 'B37': 5, 'A23': 6, 'C116': 7, 'A21': 8, 'A10': 9, 'E38': 10, 'B102': 11, 'A24': 12, 'B57 B59 B63 B66': 13, 'C105': 14, 'C55 C57': 15, 'C90': 16, 'D35': 17, 'B30': 18, 'D37': 19, 'E31': 20, 'C97': 21, 'E33': 22, 'C49': 23, 'B101': 24, 'C32': 25, 'A6': 26, 'C103': 27, 'C70': 28, 'B77': 29, 'B19': 30, 'E10': 31, 'B36': 32, 'D15': 33, 'C99': 34, 'F G73': 35, 'E34': 36, 'E68': 37, 'C95': 38, 'A7': 39, 'C110': 40, 'B49': 41, 'D19': 42, 'F33': 43, 'E36': 44, 'D17': 45, 'E50': 46, 'B10': 47, 'C2': 48, 'C125': 49, 'A36': 50, 'E40': 51, 'D30': 52, 'A34': 53, 'B39': 54, 'F': 55, 'C104': 56, 'E63': 57, 'B3': 58, 'C101': 59, 'C53': 60, 'G6': 61, 'E12': 62, 'B79': 63, 'F E46': 64, 'A11': 65, 'E8': 66, 'C68': 67, 'B38': 68, 'E44': 69, 'E24': 70, 'B96 B98': 71, 'E25': 72, 'B82 B84': 73, 'B26': 74, 'E52': 75, 'D21': 76, 'C118': 77, 'C128': 78, 'D': 79, 'D49': 80, 'B24': 81, 'A9': 82, 'B58 B60': 83, 'F G63': 84, 'E45': 85, 'E101': 86, 'C86': 87, 'D7': 88, 'D26': 89, 'C87': 90, 'D20': 91, 'A5': 92, 'C82': 93, 'C50': 94, 'D33': 95, 'E121': 96, 'E39 E41': 97, 'D28': 98, 'F E69': 99, 'D11': 100, 'B80': 101, 'A26': 102, 'C7': 103, 'D34': 104, 'B86': 105, 'B35': 106, 'C65': 107, 'C89': 108, 'B42': 109, 'C85': 110, 'B11': 111, 'B4': 112, 'E46': 113, 'C54': 114, 'D10 D12': 115, 'A20': 116, 'C45': 117, 'C148': 118, 'E58': 119, 'B52 B54 B56': 120, 'C31': 121, 'B41': 122, 'B45': 123, 'B61': 124, 'C52': 125, 'C80': 126, 'C39': 127, 'A14': 128, 'C93': 129, 'E77': 130, 'C23 C25 C27': 131, 'E49': 132, 'A31': 133, 'A19': 134, 'C83': 135, 'C92': 136, 'C91': 137, 'A16': 138, 'C30': 139, 'D47': 140, 'F38': 141, 'C124': 142, 'C78': 143, 'C126': 144, 'T': 145, 'C132': 146, 'B51 B53 B55': 147, 'B20': 148, 'B94': 149, 'C22 C26': 150, 'D6': 151, 'B50': 152, 'C62 C64': 153, 'A29': 154, 'A18': 155, 'D40': 156, 'D46': 157, 'D50': 158, 'C28': 159, 'B22': 160, 'B18': 161, 'E67': 162, 'B28': 163, 'A32': 164, 'F E57': 165, 'C111': 166, 'C123': 167, 'F4': 168, 'E60': 169, 'D36': 170, 'C6': 171, 'E17': 172, 'B5': 173, 'C51': 174, 'D9': 175, 'B69': 176, 'C106': 177, 'D45': 178, 'D22': 179, 'F2': 180, 'C46': 181, 'D56': 182, 'D48': 183, 'C130': 184, 'C47': 185, 'D38': 186}\n",
    "cabins = {\n",
    "    '': 0, 'A': 1, 'B': 2, 'C': 3, 'D': 4, 'E': 5, 'F': 6, 'G': 7, 'T': 8\n",
    "}\n",
    "ports = {\n",
    "    '': 0,\n",
    "    'S': 1,\n",
    "    'C': 2,\n",
    "    'Q': 3\n",
    "}"
   ]
  },
  {
   "cell_type": "code",
   "execution_count": 306,
   "metadata": {},
   "outputs": [],
   "source": [
    "# age of first marriage: 20f-25m\n",
    "# age death: 40-50\n",
    "def ages(age):\n",
    "    if age in {None, ''}:\n",
    "        return 14\n",
    "    age = int(float(age))\n",
    "    ages = [3, 6, 9, 12, 15, 18, 21, 24, 27, 30, 35, 40, 50, 1000]\n",
    "    for i, v in enumerate(ages):\n",
    "        if age < v:\n",
    "            return i\n",
    "# 3rd: <40 2nd: 60\n",
    "def fares(fare):\n",
    "    if fare in {None, ''}:\n",
    "        return 0\n",
    "    fare = int(float(fare))\n",
    "    fares = range(10, 100, 10)\n",
    "    for i, v in enumerate(fares):\n",
    "        if fare < v:\n",
    "            return i\n",
    "    if fare >= 90:\n",
    "        return 9"
   ]
  },
  {
   "cell_type": "code",
   "execution_count": 307,
   "metadata": {},
   "outputs": [],
   "source": [
    "# CLean data and output to file for further processing\n",
    "def clean_data(in_path, out_path):\n",
    "    csv.register_dialect('mixed', delimiter=',', escapechar=None, quoting=csv.QUOTE_ALL)\n",
    "    csv.register_dialect('ints', delimiter=',', escapechar=None, quoting=csv.QUOTE_NONE)\n",
    "    with open(in_path, mode='rt', errors='ignore') as dirty, \\\n",
    "         open(out_path, mode='a', errors='ignore') as clean:\n",
    "        read_fieldnames = ['pid', 'survived', 'pclass', 'name', 'sex', 'age', 'sisp', 'pach', 'ticket', 'fare', 'cabin', 'port']\n",
    "        #read_fieldnames = ['pid', 'pclass', 'name', 'sex', 'age', 'sisp', 'pach', 'ticket', 'fare', 'cabin', 'port']\n",
    "        reader = csv.DictReader(dirty, fieldnames=read_fieldnames, dialect='mixed')\n",
    "        next(reader, None) # skip header\n",
    "        write_fieldnames = ['pid', 'survived', 'pclass', 'name', 'sex', 'age', 'sisp', 'pach', 'prefix', 'ticket', 'fare', 'cabin', 'port']\n",
    "        #write_fieldnames = ['pid', 'pclass', 'name', 'sex', 'age', 'sisp', 'pach', 'prefix', 'ticket', 'fare', 'cabin', 'port']\n",
    "        writer = csv.DictWriter(clean, fieldnames=write_fieldnames, dialect='ints')\n",
    "        clean.truncate(0) # delete any file contents\n",
    "        writer.writeheader()\n",
    "        for row in reader:\n",
    "            #\n",
    "            # Map all values to numeric\n",
    "            #\n",
    "            # pid : leave as ints\n",
    "            # survived : leave as boolean ints\n",
    "            # pclass : leave as ints\n",
    "            # name : to categorical ints\n",
    "            hon = re.search(r', ([\\w ]+)\\.', row['name']).group(1)\n",
    "            if not hon:\n",
    "                print('Error: honorific: {0}'.format(row))\n",
    "                continue\n",
    "            row['name'] = honorifics[hon]\n",
    "            # sex : to categorical ints\n",
    "            row['sex'] = sexes[row['sex']]\n",
    "            # age :\n",
    "            row['age'] = ages(row['age'])\n",
    "            # sisp : leave as ints\n",
    "            # pach : leave as ints\n",
    "            # ticket : split ticket_prefix and ticket ints\n",
    "            ticket_mixed = row['ticket'].lower()\n",
    "            ticket_mixed = re.sub(r'[^\\w ]', '', ticket_mixed)\n",
    "            if ticket_mixed == 'line':\n",
    "                row['prefix'] = 0\n",
    "                row['ticket'] = 0\n",
    "            else:\n",
    "                match = re.search(r'(^\\w+ \\w+ |^\\w+ |^)(\\d+)$', ticket_mixed)\n",
    "                row['prefix'] = ticket_prefixes[match.group(1).replace(' ', '')]\n",
    "                row['ticket'] = match.group(2)\n",
    "            # fare : to int\n",
    "            row['fare'] = fares(row['fare'])\n",
    "            # cabin : to ints\n",
    "            cabin = row['cabin']\n",
    "            if cabin:\n",
    "                cabin = cabin[0]\n",
    "            row['cabin'] = cabins[cabin]\n",
    "            # port : to ints\n",
    "            row['port'] = ports[row['port']]\n",
    "            writer.writerow(row)"
   ]
  },
  {
   "cell_type": "code",
   "execution_count": 308,
   "metadata": {},
   "outputs": [],
   "source": [
    "clean_data('train.csv', 'cleaned.csv')"
   ]
  },
  {
   "cell_type": "code",
   "execution_count": 309,
   "metadata": {},
   "outputs": [],
   "source": [
    "test = pd.read_csv('cleaned.csv', sep=',', header=0, index_col=0)"
   ]
  },
  {
   "cell_type": "code",
   "execution_count": 310,
   "metadata": {},
   "outputs": [],
   "source": [
    "test = test.drop(labels=['ticket'], axis=1)"
   ]
  },
  {
   "cell_type": "code",
   "execution_count": 311,
   "metadata": {},
   "outputs": [],
   "source": [
    "test = test.drop(labels=['sex'], axis=1)"
   ]
  },
  {
   "cell_type": "code",
   "execution_count": 312,
   "metadata": {},
   "outputs": [
    {
     "data": {
      "text/plain": [
       "1    517\n",
       "4    185\n",
       "5    128\n",
       "3     40\n",
       "2     21\n",
       "Name: name, dtype: int64"
      ]
     },
     "execution_count": 312,
     "metadata": {},
     "output_type": "execute_result"
    }
   ],
   "source": [
    "test.name.value_counts()"
   ]
  },
  {
   "cell_type": "code",
   "execution_count": 313,
   "metadata": {
    "scrolled": true
   },
   "outputs": [
    {
     "name": "stdout",
     "output_type": "stream",
     "text": [
      "     pclass  name  age  sisp  pach  prefix  fare  cabin  port\n",
      "pid                                                          \n",
      "101       3     4    9     0     0       0     0      0     1\n",
      "102       3     1   14     0     0       0     0      0     1\n",
      "103       1     1    7     0     1       0     7      4     1\n",
      "104       3     1   10     0     0       0     0      0     1\n",
      "105       3     1   11     2     0       0     0      0     1\n"
     ]
    }
   ],
   "source": [
    "#'pclass'1, 'name'2, 'sex'3, 'age'4, 'sisp'5, 'pach'6, 'prefix'7, 'fare'8, 'cabin'9, 'port'10\n",
    "x = test.iloc[100:,1:]\n",
    "print(x.head())\n",
    "y = test.iloc[100:,0]\n",
    "logit = linear_model.LogisticRegression().fit(x, y)"
   ]
  },
  {
   "cell_type": "code",
   "execution_count": 314,
   "metadata": {},
   "outputs": [
    {
     "data": {
      "text/plain": [
       "84"
      ]
     },
     "execution_count": 314,
     "metadata": {},
     "output_type": "execute_result"
    }
   ],
   "source": [
    "testx = test.iloc[:100,1:]\n",
    "testy = test.iloc[:100,0]\n",
    "preds = logit.predict(testx)\n",
    "sum(np.equal(testy, preds))"
   ]
  },
  {
   "cell_type": "code",
   "execution_count": null,
   "metadata": {},
   "outputs": [],
   "source": [
    "#'pclass'1, 'name'2, 'sex'3, 'age'4, 'sisp'5, 'pach'6, 'prefix'7, 'fare'8, 'cabin'9, 'port'10\n",
    "x = df.iloc[:,[1,2,3,4,5,6,7,8,9,10]]\n",
    "print(x.head())\n",
    "y = df.iloc[:,0]\n",
    "logit = LogisticRegression().fit(x, y)\n",
    "testx = df.iloc[:,[1,2,3,4,5,6,7,8,9,10]]\n",
    "testy = df.iloc[:,0]\n",
    "preds2 = logit.predict(testx)\n",
    "sum(np.equal(testy, preds2))"
   ]
  },
  {
   "cell_type": "code",
   "execution_count": null,
   "metadata": {},
   "outputs": [],
   "source": [
    "pids = test.index"
   ]
  },
  {
   "cell_type": "code",
   "execution_count": null,
   "metadata": {},
   "outputs": [],
   "source": [
    "csv.register_dialect('ints', delimiter=',', escapechar=None, quoting=csv.QUOTE_NONE)\n",
    "with open('preds2.csv', mode='a+', errors='ignore') as pred:\n",
    "    fieldnames = ['PassengerId', 'Survived']\n",
    "    writer = csv.writer(pred, dialect='ints')\n",
    "    pred.truncate(0) # delete any file contents\n",
    "    writer.writerow(fieldnames)\n",
    "    for row in zip(pids, preds2):\n",
    "        writer.writerow(row)"
   ]
  },
  {
   "cell_type": "code",
   "execution_count": 135,
   "metadata": {},
   "outputs": [
    {
     "data": {
      "text/plain": [
       "7    249\n",
       "9    115\n",
       "4    114\n",
       "5    106\n",
       "6     95\n",
       "3     86\n",
       "8     48\n",
       "0     40\n",
       "1     22\n",
       "2     16\n",
       "Name: age, dtype: int64"
      ]
     },
     "execution_count": 135,
     "metadata": {},
     "output_type": "execute_result"
    }
   ],
   "source": [
    "test.age.value_counts()"
   ]
  },
  {
   "cell_type": "code",
   "execution_count": 84,
   "metadata": {},
   "outputs": [
    {
     "name": "stderr",
     "output_type": "stream",
     "text": [
      "C:\\Users\\Rachel\\Anaconda3\\lib\\site-packages\\scipy\\stats\\stats.py:1713: FutureWarning: Using a non-tuple sequence for multidimensional indexing is deprecated; use `arr[tuple(seq)]` instead of `arr[seq]`. In the future this will be interpreted as an array index, `arr[np.array(seq)]`, which will result either in an error or a different result.\n",
      "  return np.add.reduce(sorted[indexer] * weights, axis=axis) / sumval\n"
     ]
    },
    {
     "data": {
      "text/plain": [
       "<matplotlib.axes._subplots.AxesSubplot at 0x187ba7649e8>"
      ]
     },
     "execution_count": 84,
     "metadata": {},
     "output_type": "execute_result"
    },
    {
     "data": {
      "image/png": "[encoded data removed]",
      "text/plain": [
       "<Figure size 1152x360 with 1 Axes>"
      ]
     },
     "metadata": {
      "needs_background": "light"
     },
     "output_type": "display_data"
    }
   ],
   "source": [
    "adults = test[test.age > 1]\n",
    "kids = test[test.age <= 1]\n",
    "plt.figure(figsize=(16, 5))\n",
    "sns.barplot(x=test.prefix, y=test.survived, hue=test.sex)"
   ]
  },
  {
   "cell_type": "code",
   "execution_count": null,
   "metadata": {},
   "outputs": [],
   "source": []
  }
 ],
 "metadata": {
  "kernelspec": {
   "display_name": "Python 3",
   "language": "python",
   "name": "python3"
  },
  "language_info": {
   "codemirror_mode": {
    "name": "ipython",
    "version": 3
   },
   "file_extension": ".py",
   "mimetype": "text/x-python",
   "name": "python",
   "nbconvert_exporter": "python",
   "pygments_lexer": "ipython3",
   "version": "3.7.0"
  }
 },
 "nbformat": 4,
 "nbformat_minor": 2
}
