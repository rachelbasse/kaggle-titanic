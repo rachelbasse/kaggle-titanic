{
 "cells": [
  {
   "cell_type": "code",
   "execution_count": 11,
   "metadata": {},
   "outputs": [],
   "source": [
    "# Imports\n",
    "import numpy as np\n",
    "import pandas as pd\n",
    "from sklearn.linear_model import LogisticRegression"
   ]
  },
  {
   "cell_type": "code",
   "execution_count": 119,
   "metadata": {},
   "outputs": [
    {
     "data": {
      "text/html": [
       "<div>\n",
       "<style scoped>\n",
       "    .dataframe tbody tr th:only-of-type {\n",
       "        vertical-align: middle;\n",
       "    }\n",
       "\n",
       "    .dataframe tbody tr th {\n",
       "        vertical-align: top;\n",
       "    }\n",
       "\n",
       "    .dataframe thead th {\n",
       "        text-align: right;\n",
       "    }\n",
       "</style>\n",
       "<table border=\"1\" class=\"dataframe\">\n",
       "  <thead>\n",
       "    <tr style=\"text-align: right;\">\n",
       "      <th></th>\n",
       "      <th>female</th>\n",
       "      <th>young</th>\n",
       "      <th>lived</th>\n",
       "    </tr>\n",
       "  </thead>\n",
       "  <tbody>\n",
       "    <tr>\n",
       "      <th>0</th>\n",
       "      <td>0</td>\n",
       "      <td>0</td>\n",
       "      <td>1</td>\n",
       "    </tr>\n",
       "    <tr>\n",
       "      <th>1</th>\n",
       "      <td>0</td>\n",
       "      <td>1</td>\n",
       "      <td>1</td>\n",
       "    </tr>\n",
       "    <tr>\n",
       "      <th>2</th>\n",
       "      <td>1</td>\n",
       "      <td>0</td>\n",
       "      <td>0</td>\n",
       "    </tr>\n",
       "    <tr>\n",
       "      <th>3</th>\n",
       "      <td>1</td>\n",
       "      <td>1</td>\n",
       "      <td>0</td>\n",
       "    </tr>\n",
       "    <tr>\n",
       "      <th>4</th>\n",
       "      <td>0</td>\n",
       "      <td>0</td>\n",
       "      <td>1</td>\n",
       "    </tr>\n",
       "  </tbody>\n",
       "</table>\n",
       "</div>"
      ],
      "text/plain": [
       "   female  young  lived\n",
       "0       0      0      1\n",
       "1       0      1      1\n",
       "2       1      0      0\n",
       "3       1      1      0\n",
       "4       0      0      1"
      ]
     },
     "execution_count": 119,
     "metadata": {},
     "output_type": "execute_result"
    }
   ],
   "source": [
    "# 1000 rows\n",
    "# female and young: 100% lived\n",
    "# female and old: 0% lived\n",
    "# male and young: 0% lived\n",
    "# male and old: 100% lived\n",
    "# cols: female, young, lived\n",
    "data = [[0, 0, 1], [0, 1, 1], [1, 0, 0], [1, 1, 0]] * 250\n",
    "ind = pd.DataFrame(data)\n",
    "ind.columns = ['female', 'young', 'lived']\n",
    "ind.head()"
   ]
  },
  {
   "cell_type": "code",
   "execution_count": 120,
   "metadata": {},
   "outputs": [
    {
     "name": "stdout",
     "output_type": "stream",
     "text": [
      "   female  young\n",
      "0       0      0\n",
      "1       0      1\n",
      "2       1      0\n",
      "3       1      1\n",
      "4       0      0\n"
     ]
    }
   ],
   "source": [
    "x = ind.iloc[:, :-1]\n",
    "print(x.head())\n",
    "y = ind.iloc[:, -1]\n",
    "old_man = ind.iloc[0:1, :-1]\n",
    "young_man = ind.iloc[1:2, :-1]\n",
    "old_woman = ind.iloc[2:3, :-1]\n",
    "young_woman = ind.iloc[3:4, :-1]"
   ]
  },
  {
   "cell_type": "code",
   "execution_count": 121,
   "metadata": {},
   "outputs": [],
   "source": [
    "ind_logit = LogisticRegression().fit(x, y)"
   ]
  },
  {
   "cell_type": "code",
   "execution_count": 122,
   "metadata": {},
   "outputs": [
    {
     "name": "stdout",
     "output_type": "stream",
     "text": [
      "old_man: [1] should be 1\n",
      "young_man: [1] should be 1\n",
      "old_woman: [0] should be 0\n",
      "young_woman: [0] should be 0\n"
     ]
    }
   ],
   "source": [
    "for s, x, y in zip(['old_man', 'young_man', 'old_woman', 'young_woman'], [old_man, young_man, old_woman, young_woman], [1, 1, 0, 0]):\n",
    "    print('{0}: {1} should be {2}'.format(s, ind_logit.predict(x), y))"
   ]
  },
  {
   "cell_type": "code",
   "execution_count": 74,
   "metadata": {},
   "outputs": [],
   "source": [
    "# Add dependency/conditional\n",
    "data = [[0, 0, 0, 1], [0, 1, 1, 0], [1, 0, 2, 0], [1, 1, 3, 1]] * 250\n",
    "dep = pd.DataFrame(data)\n",
    "dep.columns = ['female', 'young', 'young_female', 'lived']"
   ]
  },
  {
   "cell_type": "code",
   "execution_count": 75,
   "metadata": {},
   "outputs": [
    {
     "name": "stdout",
     "output_type": "stream",
     "text": [
      "   female  young  young_female\n",
      "0       0      0             0\n",
      "1       0      1             1\n",
      "2       1      0             2\n",
      "3       1      1             3\n",
      "4       0      0             0\n"
     ]
    }
   ],
   "source": [
    "x = dep.iloc[:, :-1]\n",
    "print(x.head())\n",
    "y = dep.iloc[:, -1]\n",
    "old_man = dep.iloc[0:1, :-1]\n",
    "young_man = dep.iloc[1:2, :-1]\n",
    "old_woman = dep.iloc[2:3, :-1]\n",
    "young_woman = dep.iloc[3:4, :-1]"
   ]
  },
  {
   "cell_type": "code",
   "execution_count": 76,
   "metadata": {},
   "outputs": [],
   "source": [
    "dep_logit = LogisticRegression().fit(x, y)"
   ]
  },
  {
   "cell_type": "code",
   "execution_count": 77,
   "metadata": {},
   "outputs": [
    {
     "name": "stdout",
     "output_type": "stream",
     "text": [
      "old_man: [[0.5 0.5]] should be 1\n",
      "young_man: [[0.5 0.5]] should be 0\n",
      "old_woman: [[0.5 0.5]] should be 0\n",
      "young_woman: [[0.5 0.5]] should be 1\n"
     ]
    }
   ],
   "source": [
    "for s, x, y in zip(['old_man', 'young_man', 'old_woman', 'young_woman'], [old_man, young_man, old_woman, young_woman], [1, 0, 0, 1]):\n",
    "    print('{0}: {1} should be {2}'.format(s, dep_logit.predict_proba(x), y))"
   ]
  },
  {
   "cell_type": "code",
   "execution_count": 114,
   "metadata": {},
   "outputs": [
    {
     "data": {
      "text/html": [
       "<div>\n",
       "<style scoped>\n",
       "    .dataframe tbody tr th:only-of-type {\n",
       "        vertical-align: middle;\n",
       "    }\n",
       "\n",
       "    .dataframe tbody tr th {\n",
       "        vertical-align: top;\n",
       "    }\n",
       "\n",
       "    .dataframe thead th {\n",
       "        text-align: right;\n",
       "    }\n",
       "</style>\n",
       "<table border=\"1\" class=\"dataframe\">\n",
       "  <thead>\n",
       "    <tr style=\"text-align: right;\">\n",
       "      <th></th>\n",
       "      <th>young_female</th>\n",
       "      <th>lived</th>\n",
       "    </tr>\n",
       "  </thead>\n",
       "  <tbody>\n",
       "    <tr>\n",
       "      <th>0</th>\n",
       "      <td>0</td>\n",
       "      <td>1</td>\n",
       "    </tr>\n",
       "    <tr>\n",
       "      <th>1</th>\n",
       "      <td>1</td>\n",
       "      <td>1</td>\n",
       "    </tr>\n",
       "    <tr>\n",
       "      <th>2</th>\n",
       "      <td>2</td>\n",
       "      <td>0</td>\n",
       "    </tr>\n",
       "    <tr>\n",
       "      <th>3</th>\n",
       "      <td>3</td>\n",
       "      <td>0</td>\n",
       "    </tr>\n",
       "    <tr>\n",
       "      <th>4</th>\n",
       "      <td>0</td>\n",
       "      <td>1</td>\n",
       "    </tr>\n",
       "  </tbody>\n",
       "</table>\n",
       "</div>"
      ],
      "text/plain": [
       "   young_female  lived\n",
       "0             0      1\n",
       "1             1      1\n",
       "2             2      0\n",
       "3             3      0\n",
       "4             0      1"
      ]
     },
     "execution_count": 114,
     "metadata": {},
     "output_type": "execute_result"
    }
   ],
   "source": [
    "# Add dependency/conditional\n",
    "#data = [[0, 1], [1, 0], [2, 0], [3, 1]] * 250\n",
    "data = [[0, 1], [1, 1], [2, 0], [3, 0]] * 250\n",
    "depo = pd.DataFrame(data)\n",
    "depo.columns = ['young_female', 'lived']\n",
    "depo.head()"
   ]
  },
  {
   "cell_type": "code",
   "execution_count": 115,
   "metadata": {},
   "outputs": [
    {
     "name": "stdout",
     "output_type": "stream",
     "text": [
      "   young_female\n",
      "0             0\n",
      "1             1\n",
      "2             2\n",
      "3             3\n",
      "4             0\n"
     ]
    }
   ],
   "source": [
    "x = depo.iloc[:, :-1]\n",
    "print(x.head())\n",
    "y = depo.iloc[:, -1]\n",
    "old_man = depo.iloc[0:1, :-1]\n",
    "young_woman = depo.iloc[1:2, :-1]\n",
    "old_woman = depo.iloc[2:3, :-1]\n",
    "young_man = depo.iloc[3:4, :-1]"
   ]
  },
  {
   "cell_type": "code",
   "execution_count": 116,
   "metadata": {},
   "outputs": [],
   "source": [
    "depo_logit = LogisticRegression().fit(x, y)"
   ]
  },
  {
   "cell_type": "code",
   "execution_count": 118,
   "metadata": {},
   "outputs": [
    {
     "name": "stdout",
     "output_type": "stream",
     "text": [
      "old_man ([[0]]): [[4.33300823e-04 9.99566699e-01]] should be 1\n",
      "young_woman ([[1]]): [[0.08214103 0.91785897]] should be 1\n",
      "old_woman ([[2]]): [[0.94865281 0.05134719]] should be 0\n",
      "young_man ([[3]]): [[9.99737887e-01 2.62113289e-04]] should be 0\n"
     ]
    }
   ],
   "source": [
    "for s, x, y in zip(['old_man', 'young_woman', 'old_woman', 'young_man'], [old_man, young_woman, old_woman, young_man], [1, 1, 0, 0]):\n",
    "    print('{0} ({3.values}): {1} should be {2}'.format(s, depo_logit.predict_proba(x), y, x))"
   ]
  },
  {
   "cell_type": "code",
   "execution_count": null,
   "metadata": {},
   "outputs": [],
   "source": []
  },
  {
   "cell_type": "code",
   "execution_count": null,
   "metadata": {},
   "outputs": [],
   "source": []
  }
 ],
 "metadata": {
  "kernelspec": {
   "display_name": "Python 3",
   "language": "python",
   "name": "python3"
  },
  "language_info": {
   "codemirror_mode": {
    "name": "ipython",
    "version": 3
   },
   "file_extension": ".py",
   "mimetype": "text/x-python",
   "name": "python",
   "nbconvert_exporter": "python",
   "pygments_lexer": "ipython3",
   "version": "3.7.0"
  }
 },
 "nbformat": 4,
 "nbformat_minor": 2
}
